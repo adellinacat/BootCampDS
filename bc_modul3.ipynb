{
 "cells": [
  {
   "cell_type": "markdown",
   "id": "c21fc7c2",
   "metadata": {},
   "source": [
    "Задача 1. Предположим, мы хотим найти вероятность того, что на игральной кости при броске выпадет значение больше 4."
   ]
  },
  {
   "cell_type": "code",
   "execution_count": 37,
   "id": "c48ff583",
   "metadata": {},
   "outputs": [
    {
     "name": "stdout",
     "output_type": "stream",
     "text": [
      "0.3347\n"
     ]
    }
   ],
   "source": [
    "import random\n",
    "import numpy as np\n",
    "\n",
    "n = 10000\n",
    "my_list = []\n",
    "\n",
    "for i in range(n):\n",
    "    k = random.randint(1,6)\n",
    "    if k > 4:\n",
    "        my_list.append(k)\n",
    "    p = len(my_list)/n\n",
    "print(p)"
   ]
  },
  {
   "cell_type": "markdown",
   "id": "d1a7ff5c",
   "metadata": {},
   "source": [
    "Задача 2. Написать функцию для вычисления факториала и рассчитать число сочетаний из 6 по 2."
   ]
  },
  {
   "cell_type": "code",
   "execution_count": 2,
   "id": "2770f4d4",
   "metadata": {},
   "outputs": [],
   "source": [
    "def fact(x):\n",
    "    factorial = 1\n",
    "    for i in range(2, x+1):\n",
    "        factorial *= i\n",
    "    return factorial\n",
    "   "
   ]
  },
  {
   "cell_type": "code",
   "execution_count": 46,
   "id": "da072391",
   "metadata": {},
   "outputs": [],
   "source": [
    "def combinations(n, k):\n",
    "    return int(fact(n) / (fact(k) * fact(n - k)))\n"
   ]
  },
  {
   "cell_type": "code",
   "execution_count": 47,
   "id": "d9047a29",
   "metadata": {},
   "outputs": [
    {
     "data": {
      "text/plain": [
       "15"
      ]
     },
     "execution_count": 47,
     "metadata": {},
     "output_type": "execute_result"
    }
   ],
   "source": [
    "combinations(6, 2)"
   ]
  },
  {
   "cell_type": "markdown",
   "id": "aa94970b",
   "metadata": {},
   "source": [
    "Задача 3. Из 30 стрелков 12 попадает в цель с вероятностью 0,6, 8 стрелков — с вероятностью 0,5, а 10 — с вероятностью 0,7. Наудачу выбранный стрелок произвёл выстрел, поразив цель. К какой из групп, вероятнее всего, принадлежал этот стрелок?"
   ]
  },
  {
   "cell_type": "code",
   "execution_count": 64,
   "id": "96a1268a",
   "metadata": {},
   "outputs": [
    {
     "name": "stdout",
     "output_type": "stream",
     "text": [
      "группа \"a\": 0.4 группа \"b\": 0.22 группа \"c\": 0.38\n",
      "лучший результат: 0.4\n"
     ]
    }
   ],
   "source": [
    "a = np.around(((12/30)* 0.6 ) / ((0.6 * 12/30) + (0.5 * 8/30) + (0.7 * 10/30)), decimals=2)\n",
    "b = np.around(((8/30)*0.5) / ((0.6 * 12/30) + (0.5 * 8/30) + (0.7 * 10/30)), decimals=2)\n",
    "c = np.around(((10/30)*0.7) / ((0.6 * 12/30) + (0.5 * 8/30) + (0.7 * 10/30)), decimals=2)\n",
    "print ('группа \"a\":', a, \n",
    "       'группа \"b\":', b, \n",
    "       'группа \"c\":', c)\n",
    "print('лучший результат:', max(a,b,c))"
   ]
  },
  {
   "cell_type": "markdown",
   "id": "c6e73476",
   "metadata": {},
   "source": [
    "вывод: стрелок из группы А"
   ]
  },
  {
   "cell_type": "markdown",
   "id": "39b5c6fb",
   "metadata": {},
   "source": [
    "Задача 4. Сгенерировать выборку реализаций случайной величины (кроме распределения Коши). Любимое распределение можно выбрать на этом сайте. Проверить ЦПТ для различных n."
   ]
  },
  {
   "cell_type": "code",
   "execution_count": 5,
   "id": "ad68c646",
   "metadata": {},
   "outputs": [],
   "source": [
    "from scipy.stats import expon\n",
    "import seaborn as sns\n"
   ]
  },
  {
   "cell_type": "code",
   "execution_count": 14,
   "id": "978c47d6",
   "metadata": {},
   "outputs": [
    {
     "data": {
      "text/plain": [
       "<seaborn.axisgrid.FacetGrid at 0x2bbb11d3bb0>"
      ]
     },
     "execution_count": 14,
     "metadata": {},
     "output_type": "execute_result"
    },
    {
     "data": {
      "image/png": "[encoded data removed]",
      "text/plain": [
       "<Figure size 360x360 with 1 Axes>"
      ]
     },
     "metadata": {
      "needs_background": "light"
     },
     "output_type": "display_data"
    }
   ],
   "source": [
    "r=[]\n",
    "for _ in range(100):\n",
    "    r.append(expon.rvs(size=100).mean())\n",
    "sns.displot(r)"
   ]
  },
  {
   "cell_type": "code",
   "execution_count": 15,
   "id": "d689a69b",
   "metadata": {},
   "outputs": [
    {
     "data": {
      "text/plain": [
       "AndersonResult(statistic=0.31533187643212557, critical_values=array([0.555, 0.632, 0.759, 0.885, 1.053]), significance_level=array([15. , 10. ,  5. ,  2.5,  1. ]))"
      ]
     },
     "execution_count": 15,
     "metadata": {},
     "output_type": "execute_result"
    }
   ],
   "source": [
    "stats.anderson(r)"
   ]
  },
  {
   "cell_type": "code",
   "execution_count": 7,
   "id": "a2bb4dea",
   "metadata": {},
   "outputs": [],
   "source": [
    "from scipy import stats\n",
    "import numpy as np"
   ]
  },
  {
   "cell_type": "code",
   "execution_count": 8,
   "id": "1859fa4e",
   "metadata": {},
   "outputs": [],
   "source": [
    "a1=[]\n",
    "for _ in range(10):\n",
    "    a1.append(expon.rvs(size=100).mean())"
   ]
  },
  {
   "cell_type": "code",
   "execution_count": 13,
   "id": "4a11248b",
   "metadata": {},
   "outputs": [
    {
     "data": {
      "text/plain": [
       "<seaborn.axisgrid.FacetGrid at 0x2bbb125c940>"
      ]
     },
     "execution_count": 13,
     "metadata": {},
     "output_type": "execute_result"
    },
    {
     "data": {
      "image/png": "[encoded data removed]",
      "text/plain": [
       "<Figure size 360x360 with 1 Axes>"
      ]
     },
     "metadata": {
      "needs_background": "light"
     },
     "output_type": "display_data"
    }
   ],
   "source": [
    "sns.displot(a1)"
   ]
  },
  {
   "cell_type": "code",
   "execution_count": 10,
   "id": "3eac1b64",
   "metadata": {},
   "outputs": [
    {
     "data": {
      "text/plain": [
       "AndersonResult(statistic=0.2832096295448885, critical_values=array([0.501, 0.57 , 0.684, 0.798, 0.95 ]), significance_level=array([15. , 10. ,  5. ,  2.5,  1. ]))"
      ]
     },
     "execution_count": 10,
     "metadata": {},
     "output_type": "execute_result"
    }
   ],
   "source": [
    "stats.anderson(a1)"
   ]
  },
  {
   "cell_type": "markdown",
   "id": "eabc5de1",
   "metadata": {},
   "source": [
    "Задача 5. Попробовать применить ЦПТ к распределению Коши."
   ]
  },
  {
   "cell_type": "code",
   "execution_count": 65,
   "id": "087f2554",
   "metadata": {},
   "outputs": [],
   "source": [
    "from scipy.stats import cauchy"
   ]
  },
  {
   "cell_type": "code",
   "execution_count": 79,
   "id": "fc916f54",
   "metadata": {},
   "outputs": [],
   "source": [
    "a6=[]\n",
    "for _ in range(100):\n",
    "    a6.append(cauchy.rvs(size=1000).mean())"
   ]
  },
  {
   "cell_type": "code",
   "execution_count": 80,
   "id": "8b2ea402",
   "metadata": {},
   "outputs": [
    {
     "name": "stderr",
     "output_type": "stream",
     "text": [
      "C:\\ProgramData\\Anaconda3\\lib\\site-packages\\seaborn\\distributions.py:2619: FutureWarning: `distplot` is a deprecated function and will be removed in a future version. Please adapt your code to use either `displot` (a figure-level function with similar flexibility) or `histplot` (an axes-level function for histograms).\n",
      "  warnings.warn(msg, FutureWarning)\n"
     ]
    },
    {
     "data": {
      "text/plain": [
       "<AxesSubplot:ylabel='Density'>"
      ]
     },
     "execution_count": 80,
     "metadata": {},
     "output_type": "execute_result"
    },
    {
     "data": {
      "image/png": "[encoded data removed]",
      "text/plain": [
       "<Figure size 432x288 with 1 Axes>"
      ]
     },
     "metadata": {
      "needs_background": "light"
     },
     "output_type": "display_data"
    }
   ],
   "source": [
    "sns.distplot(np.array(a6))"
   ]
  },
  {
   "cell_type": "code",
   "execution_count": 81,
   "id": "48b8faf4",
   "metadata": {},
   "outputs": [
    {
     "data": {
      "text/plain": [
       "AndersonResult(statistic=12.396664215811526, critical_values=array([0.555, 0.632, 0.759, 0.885, 1.053]), significance_level=array([15. , 10. ,  5. ,  2.5,  1. ]))"
      ]
     },
     "execution_count": 81,
     "metadata": {},
     "output_type": "execute_result"
    }
   ],
   "source": [
    "stats.anderson(np.array(a6))"
   ]
  },
  {
   "cell_type": "markdown",
   "id": "015c81ff",
   "metadata": {},
   "source": [
    "Задача 6. Посчитать основные характеристики выборки."
   ]
  },
  {
   "cell_type": "code",
   "execution_count": 84,
   "id": "f4ad2dd3",
   "metadata": {},
   "outputs": [],
   "source": [
    "a5=[]\n",
    "for _ in range(100):\n",
    "    a5.append(expon.rvs(size=1000).mean())\n",
    "a5rr=np.array(a5)\n"
   ]
  },
  {
   "cell_type": "code",
   "execution_count": 85,
   "id": "8464181b",
   "metadata": {},
   "outputs": [
    {
     "data": {
      "text/plain": [
       "(0.9357536153057033,\n",
       " 1.0848492610908789,\n",
       " 1.0010665236127572,\n",
       " 0.034506568121415664)"
      ]
     },
     "execution_count": 85,
     "metadata": {},
     "output_type": "execute_result"
    }
   ],
   "source": [
    "np.min(a5rr), np.max(a5rr), np.mean(a5rr), np.std(a5rr)"
   ]
  },
  {
   "cell_type": "markdown",
   "id": "c23ea811",
   "metadata": {},
   "source": [
    "Задача 7. Посчитать коэффициент корреляции для двух векторов."
   ]
  },
  {
   "cell_type": "code",
   "execution_count": 86,
   "id": "f7aabfbb",
   "metadata": {},
   "outputs": [
    {
     "data": {
      "text/plain": [
       "(100, 100)"
      ]
     },
     "execution_count": 86,
     "metadata": {},
     "output_type": "execute_result"
    }
   ],
   "source": [
    "a6rr=np.array(a6)\n",
    "len(a5), len(a6)"
   ]
  },
  {
   "cell_type": "code",
   "execution_count": 87,
   "id": "50f51e4e",
   "metadata": {},
   "outputs": [
    {
     "data": {
      "text/plain": [
       "array([[1.        , 0.05664895],\n",
       "       [0.05664895, 1.        ]])"
      ]
     },
     "execution_count": 87,
     "metadata": {},
     "output_type": "execute_result"
    }
   ],
   "source": [
    "np.corrcoef(a5rr, a6rr)"
   ]
  },
  {
   "cell_type": "code",
   "execution_count": null,
   "id": "6f0cd0c0",
   "metadata": {},
   "outputs": [],
   "source": []
  }
 ],
 "metadata": {
  "kernelspec": {
   "display_name": "Python 3 (ipykernel)",
   "language": "python",
   "name": "python3"
  },
  "language_info": {
   "codemirror_mode": {
    "name": "ipython",
    "version": 3
   },
   "file_extension": ".py",
   "mimetype": "text/x-python",
   "name": "python",
   "nbconvert_exporter": "python",
   "pygments_lexer": "ipython3",
   "version": "3.9.12"
  }
 },
 "nbformat": 4,
 "nbformat_minor": 5
}
