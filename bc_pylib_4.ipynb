{
 "cells": [
  {
   "cell_type": "code",
   "execution_count": 1,
   "metadata": {
    "id": "huLJdoLNsznO"
   },
   "outputs": [],
   "source": [
    "import timeit\n",
    "from random import randint\n",
    "\n",
    "count_take = 100\n",
    "load_lib = \"from random import shuffle\"\n",
    "array = [1, 2, 3, 4, 5, 6, 7, 8, 9, 10]"
   ]
  },
  {
   "cell_type": "markdown",
   "metadata": {
    "id": "Y1Qf-kQ1sznQ",
    "pycharm": {
     "name": "#%% md\n"
    }
   },
   "source": [
    "1. Реализуйте бинарный поиск"
   ]
  },
  {
   "cell_type": "code",
   "execution_count": 2,
   "metadata": {
    "id": "2i279QmVsznR",
    "pycharm": {
     "name": "#%%\n"
    }
   },
   "outputs": [],
   "source": [
    "def binary_search(arr, item):\n",
    "    first = 0\n",
    "    last = len(arr) - 1\n",
    "\n",
    "    found = False\n",
    "\n",
    "    while first <= last and not found:\n",
    "\n",
    "        mid = (first + last) // 2\n",
    "        if arr[mid] == item:\n",
    "            found = True\n",
    "        else:\n",
    "            if item < arr[mid]:\n",
    "                last = mid - 1\n",
    "            else:\n",
    "                first = mid + 1\n",
    "    return found\n",
    "\n",
    "\n",
    "def rec_bin_search(arr, item):\n",
    "    if len(arr) == 0:\n",
    "        return False\n",
    "    else:\n",
    "\n",
    "        mid = len(arr) // 2\n",
    "        if arr[mid] == item:\n",
    "            return True\n",
    "        else:\n",
    "            if item < arr[mid]:\n",
    "                return rec_bin_search(arr[:mid], item)\n",
    "            else:\n",
    "                return rec_bin_search(arr[mid + 1:], item)"
   ]
  },
  {
   "cell_type": "code",
   "execution_count": 3,
   "metadata": {
    "colab": {
     "base_uri": "https://localhost:8080/"
    },
    "id": "tCiAUb5tsznS",
    "outputId": "84346e40-2908-4383-d0aa-e0c64fc44119",
    "pycharm": {
     "name": "#%%\n"
    }
   },
   "outputs": [
    {
     "data": {
      "text/plain": [
       "True"
      ]
     },
     "execution_count": 3,
     "metadata": {},
     "output_type": "execute_result"
    }
   ],
   "source": [
    "rec_bin_search(array, 3)"
   ]
  },
  {
   "cell_type": "code",
   "execution_count": 4,
   "metadata": {
    "colab": {
     "base_uri": "https://localhost:8080/"
    },
    "id": "gNnlPJoHtBzl",
    "outputId": "53169034-207b-485a-ef96-a23e49323d4f"
   },
   "outputs": [
    {
     "data": {
      "text/plain": [
       "True"
      ]
     },
     "execution_count": 4,
     "metadata": {},
     "output_type": "execute_result"
    }
   ],
   "source": [
    "rec_bin_search(array, 5)"
   ]
  },
  {
   "cell_type": "markdown",
   "metadata": {
    "id": "jo1BilLXsznT"
   },
   "source": [
    "2. Реализуйте несколько алгоритмов\n",
    "сортировки и сравните их время работы на\n",
    "одних и тех же входных данных"
   ]
  },
  {
   "cell_type": "code",
   "execution_count": 5,
   "metadata": {
    "id": "GVP7Au9tsznU",
    "pycharm": {
     "name": "#%%\n"
    }
   },
   "outputs": [],
   "source": [
    "def bubble(arr): \n",
    "    \"\"\"Bubble Sort\"\"\"                         # сортировка пузырьком\n",
    "    for i in range(N-1):\n",
    "        for j in range(N-i-1):\n",
    "            if arr[j] > arr[j+1]:\n",
    "                buff = arr[j]\n",
    "                arr[j] = arr[j+1]\n",
    "                arr[j+1] = buff\n",
    " \n",
    "N = 10\n",
    "a = []\n",
    "for i in range(N):\n",
    "    a.append(randint(1, 99))\n",
    " \n",
    "# bubble(a)\n",
    "#print(a)\n",
    "\n",
    "\n",
    "def selection_sort(arr):                       # сортировка выбором\n",
    "    \"\"\"Selection Sort\"\"\"\n",
    "    for i in range(len(arr)):\n",
    "        min_idx = i\n",
    "        for curr_index in range(i + 1, len(arr)):\n",
    "            if arr[min_idx] > arr[curr_index]:\n",
    "                min_idx = curr_index\n",
    "        arr[i], arr[min_idx] = arr[min_idx], arr[i]\n",
    "\n",
    "\n",
    "def insertion_sort(arr):                        # сортировка вставками\n",
    "    \"\"\"Insertion Sort\"\"\"\n",
    "    for i in range(1, len(arr)):\n",
    "        elem_selected = arr[i]\n",
    "\n",
    "        while i > 0 and elem_selected < arr[i - 1]:\n",
    "            arr[i] = arr[i - 1]\n",
    "            i -= 1\n",
    "        arr[i] = elem_selected\n",
    "\n",
    "\n",
    "def merge_sort(arr):                             # сортировка слиянием\n",
    "    \"\"\"Merge Sort\"\"\"\n",
    "    if len(arr) == 0 or len(arr) == 1:\n",
    "        return arr\n",
    "    else:\n",
    "        middle_idx = len(arr) // 2\n",
    "\n",
    "        left = merge_sort(arr[:middle_idx])\n",
    "        right = merge_sort(arr[middle_idx:])\n",
    "\n",
    "        return merge(left, right)\n",
    "\n",
    "\n",
    "def merge(left_half, right_half):                 #слияние\n",
    "    if not left_half or not right_half:\n",
    "        return left_half or right_half\n",
    "\n",
    "    result = []\n",
    "    i, j = 0, 0\n",
    "\n",
    "    while True:\n",
    "        if left_half[i] < right_half[j]:\n",
    "            result.append(left_half[i])\n",
    "            i += 1\n",
    "        else:\n",
    "            result.append(right_half[j])\n",
    "            j += 1\n",
    "        if i == len(left_half) or j == len(right_half):\n",
    "            result.extend(left_half[i:] or right_half[j:])\n",
    "            break\n",
    "\n",
    "    return result\n",
    "\n",
    "\n",
    "def quicksort(arr, low, high):                   # быстрая сортировка\n",
    "    \"\"\"Quick Sort\"\"\"\n",
    "    if low < high:\n",
    "        pivot_index = partition(arr, low, high)\n",
    "\n",
    "        quicksort(arr, low, pivot_index - 1)\n",
    "        quicksort(arr, pivot_index + 1, high)\n",
    "\n",
    "\n",
    "def partition(arr, low, high):                   # разделение\n",
    "    pivot = arr[high]\n",
    "    i = low - 1\n",
    "    for j in range(low, high):\n",
    "        if arr[j] <= pivot:\n",
    "            i += 1\n",
    "            arr[i], arr[j] = arr[j], arr[i]\n",
    "    arr[i + 1], arr[high] = arr[high], arr[i + 1]\n",
    "    return i + 1"
   ]
  },
  {
   "cell_type": "code",
   "execution_count": 6,
   "metadata": {
    "id": "U7mgoR0jsznV",
    "pycharm": {
     "name": "#%%\n"
    }
   },
   "outputs": [],
   "source": [
    "def test_algorithm(alg_list):\n",
    "    for al in alg_list:\n",
    "        test = f'''\n",
    "a = [i for i in range(1000)]\n",
    "shuffle(a)\n",
    "{al.__name__}(a) if {al.__name__} is not quicksort else {al.__name__}(a, 0, len(a)-1)\n",
    "'''\n",
    "        print(f\"\\n==> {al.__doc__} testing\")\n",
    "        time = timeit.timeit(test, setup=load_lib, number=count_take, globals=globals())\n",
    "\n",
    "        print(\"sorting time:\", time)\n",
    "        print(\"retry time(avg):\", time / count_take)"
   ]
  },
  {
   "cell_type": "code",
   "execution_count": 7,
   "metadata": {
    "colab": {
     "base_uri": "https://localhost:8080/"
    },
    "id": "-FCRANtbsznV",
    "outputId": "36d6a3bd-7526-43c9-f5e1-8bffee96a937",
    "pycharm": {
     "name": "#%%\n"
    }
   },
   "outputs": [
    {
     "name": "stdout",
     "output_type": "stream",
     "text": [
      "\n",
      "==> Bubble Sort testing\n",
      "sorting time: 0.043943000000000065\n",
      "retry time(avg): 0.00043943000000000064\n",
      "\n",
      "==> Selection Sort testing\n",
      "sorting time: 5.1832161\n",
      "retry time(avg): 0.051832161\n",
      "\n",
      "==> Insertion Sort testing\n",
      "sorting time: 7.9364797\n",
      "retry time(avg): 0.079364797\n",
      "\n",
      "==> Merge Sort testing\n",
      "sorting time: 0.7069368999999988\n",
      "retry time(avg): 0.007069368999999988\n",
      "\n",
      "==> Quick Sort testing\n",
      "sorting time: 0.4303688999999977\n",
      "retry time(avg): 0.004303688999999977\n"
     ]
    }
   ],
   "source": [
    "al_list = [bubble, selection_sort, insertion_sort, merge_sort, quicksort]\n",
    "\n",
    "test_algorithm(al_list)"
   ]
  },
  {
   "cell_type": "code",
   "execution_count": null,
   "metadata": {},
   "outputs": [],
   "source": []
  }
 ],
 "metadata": {
  "colab": {
   "provenance": []
  },
  "kernelspec": {
   "display_name": "Python 3 (ipykernel)",
   "language": "python",
   "name": "python3"
  },
  "language_info": {
   "codemirror_mode": {
    "name": "ipython",
    "version": 3
   },
   "file_extension": ".py",
   "mimetype": "text/x-python",
   "name": "python",
   "nbconvert_exporter": "python",
   "pygments_lexer": "ipython3",
   "version": "3.9.12"
  }
 },
 "nbformat": 4,
 "nbformat_minor": 1
}
